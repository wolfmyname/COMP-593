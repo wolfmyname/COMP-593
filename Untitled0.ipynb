{
  "nbformat": 4,
  "nbformat_minor": 0,
  "metadata": {
    "colab": {
      "name": "Untitled0.ipynb",
      "provenance": [],
      "authorship_tag": "ABX9TyNGfeesZTFJARBcX+BewszD",
      "include_colab_link": true
    },
    "kernelspec": {
      "name": "python3",
      "display_name": "Python 3"
    },
    "language_info": {
      "name": "python"
    }
  },
  "cells": [
    {
      "cell_type": "markdown",
      "metadata": {
        "id": "view-in-github",
        "colab_type": "text"
      },
      "source": [
        "<a href=\"https://colab.research.google.com/github/wolfmyname/COMP-593/blob/main/Untitled0.ipynb\" target=\"_parent\"><img src=\"https://colab.research.google.com/assets/colab-badge.svg\" alt=\"Open In Colab\"/></a>"
      ]
    },
    {
      "cell_type": "code",
      "execution_count": 1,
      "metadata": {
        "colab": {
          "base_uri": "https://localhost:8080/"
        },
        "id": "aPWlLoByGZSr",
        "outputId": "5fa89c72-5d72-42e5-8c05-7eaba939193b"
      },
      "outputs": [
        {
          "output_type": "stream",
          "name": "stdout",
          "text": [
            "Collecting pyfiglet\n",
            "  Downloading pyfiglet-0.8.post1-py2.py3-none-any.whl (865 kB)\n",
            "\u001b[?25l\r\u001b[K     |▍                               | 10 kB 5.8 MB/s eta 0:00:01\r\u001b[K     |▊                               | 20 kB 7.8 MB/s eta 0:00:01\r\u001b[K     |█▏                              | 30 kB 8.1 MB/s eta 0:00:01\r\u001b[K     |█▌                              | 40 kB 8.7 MB/s eta 0:00:01\r\u001b[K     |██                              | 51 kB 10.2 MB/s eta 0:00:01\r\u001b[K     |██▎                             | 61 kB 9.9 MB/s eta 0:00:01\r\u001b[K     |██▋                             | 71 kB 10.1 MB/s eta 0:00:01\r\u001b[K     |███                             | 81 kB 11.2 MB/s eta 0:00:01\r\u001b[K     |███▍                            | 92 kB 11.1 MB/s eta 0:00:01\r\u001b[K     |███▉                            | 102 kB 11.5 MB/s eta 0:00:01\r\u001b[K     |████▏                           | 112 kB 11.5 MB/s eta 0:00:01\r\u001b[K     |████▌                           | 122 kB 11.5 MB/s eta 0:00:01\r\u001b[K     |█████                           | 133 kB 11.5 MB/s eta 0:00:01\r\u001b[K     |█████▎                          | 143 kB 11.5 MB/s eta 0:00:01\r\u001b[K     |█████▊                          | 153 kB 11.5 MB/s eta 0:00:01\r\u001b[K     |██████                          | 163 kB 11.5 MB/s eta 0:00:01\r\u001b[K     |██████▍                         | 174 kB 11.5 MB/s eta 0:00:01\r\u001b[K     |██████▉                         | 184 kB 11.5 MB/s eta 0:00:01\r\u001b[K     |███████▏                        | 194 kB 11.5 MB/s eta 0:00:01\r\u001b[K     |███████▋                        | 204 kB 11.5 MB/s eta 0:00:01\r\u001b[K     |████████                        | 215 kB 11.5 MB/s eta 0:00:01\r\u001b[K     |████████▎                       | 225 kB 11.5 MB/s eta 0:00:01\r\u001b[K     |████████▊                       | 235 kB 11.5 MB/s eta 0:00:01\r\u001b[K     |█████████                       | 245 kB 11.5 MB/s eta 0:00:01\r\u001b[K     |█████████▌                      | 256 kB 11.5 MB/s eta 0:00:01\r\u001b[K     |█████████▉                      | 266 kB 11.5 MB/s eta 0:00:01\r\u001b[K     |██████████▏                     | 276 kB 11.5 MB/s eta 0:00:01\r\u001b[K     |██████████▋                     | 286 kB 11.5 MB/s eta 0:00:01\r\u001b[K     |███████████                     | 296 kB 11.5 MB/s eta 0:00:01\r\u001b[K     |███████████▍                    | 307 kB 11.5 MB/s eta 0:00:01\r\u001b[K     |███████████▊                    | 317 kB 11.5 MB/s eta 0:00:01\r\u001b[K     |████████████                    | 327 kB 11.5 MB/s eta 0:00:01\r\u001b[K     |████████████▌                   | 337 kB 11.5 MB/s eta 0:00:01\r\u001b[K     |████████████▉                   | 348 kB 11.5 MB/s eta 0:00:01\r\u001b[K     |█████████████▎                  | 358 kB 11.5 MB/s eta 0:00:01\r\u001b[K     |█████████████▋                  | 368 kB 11.5 MB/s eta 0:00:01\r\u001b[K     |██████████████                  | 378 kB 11.5 MB/s eta 0:00:01\r\u001b[K     |██████████████▍                 | 389 kB 11.5 MB/s eta 0:00:01\r\u001b[K     |██████████████▊                 | 399 kB 11.5 MB/s eta 0:00:01\r\u001b[K     |███████████████▏                | 409 kB 11.5 MB/s eta 0:00:01\r\u001b[K     |███████████████▌                | 419 kB 11.5 MB/s eta 0:00:01\r\u001b[K     |████████████████                | 430 kB 11.5 MB/s eta 0:00:01\r\u001b[K     |████████████████▎               | 440 kB 11.5 MB/s eta 0:00:01\r\u001b[K     |████████████████▋               | 450 kB 11.5 MB/s eta 0:00:01\r\u001b[K     |█████████████████               | 460 kB 11.5 MB/s eta 0:00:01\r\u001b[K     |█████████████████▍              | 471 kB 11.5 MB/s eta 0:00:01\r\u001b[K     |█████████████████▉              | 481 kB 11.5 MB/s eta 0:00:01\r\u001b[K     |██████████████████▏             | 491 kB 11.5 MB/s eta 0:00:01\r\u001b[K     |██████████████████▌             | 501 kB 11.5 MB/s eta 0:00:01\r\u001b[K     |███████████████████             | 512 kB 11.5 MB/s eta 0:00:01\r\u001b[K     |███████████████████▎            | 522 kB 11.5 MB/s eta 0:00:01\r\u001b[K     |███████████████████▊            | 532 kB 11.5 MB/s eta 0:00:01\r\u001b[K     |████████████████████            | 542 kB 11.5 MB/s eta 0:00:01\r\u001b[K     |████████████████████▍           | 552 kB 11.5 MB/s eta 0:00:01\r\u001b[K     |████████████████████▉           | 563 kB 11.5 MB/s eta 0:00:01\r\u001b[K     |█████████████████████▏          | 573 kB 11.5 MB/s eta 0:00:01\r\u001b[K     |█████████████████████▋          | 583 kB 11.5 MB/s eta 0:00:01\r\u001b[K     |██████████████████████          | 593 kB 11.5 MB/s eta 0:00:01\r\u001b[K     |██████████████████████▎         | 604 kB 11.5 MB/s eta 0:00:01\r\u001b[K     |██████████████████████▊         | 614 kB 11.5 MB/s eta 0:00:01\r\u001b[K     |███████████████████████         | 624 kB 11.5 MB/s eta 0:00:01\r\u001b[K     |███████████████████████▌        | 634 kB 11.5 MB/s eta 0:00:01\r\u001b[K     |███████████████████████▉        | 645 kB 11.5 MB/s eta 0:00:01\r\u001b[K     |████████████████████████▏       | 655 kB 11.5 MB/s eta 0:00:01\r\u001b[K     |████████████████████████▋       | 665 kB 11.5 MB/s eta 0:00:01\r\u001b[K     |█████████████████████████       | 675 kB 11.5 MB/s eta 0:00:01\r\u001b[K     |█████████████████████████▍      | 686 kB 11.5 MB/s eta 0:00:01\r\u001b[K     |█████████████████████████▊      | 696 kB 11.5 MB/s eta 0:00:01\r\u001b[K     |██████████████████████████▏     | 706 kB 11.5 MB/s eta 0:00:01\r\u001b[K     |██████████████████████████▌     | 716 kB 11.5 MB/s eta 0:00:01\r\u001b[K     |██████████████████████████▉     | 727 kB 11.5 MB/s eta 0:00:01\r\u001b[K     |███████████████████████████▎    | 737 kB 11.5 MB/s eta 0:00:01\r\u001b[K     |███████████████████████████▋    | 747 kB 11.5 MB/s eta 0:00:01\r\u001b[K     |████████████████████████████    | 757 kB 11.5 MB/s eta 0:00:01\r\u001b[K     |████████████████████████████▍   | 768 kB 11.5 MB/s eta 0:00:01\r\u001b[K     |████████████████████████████▊   | 778 kB 11.5 MB/s eta 0:00:01\r\u001b[K     |█████████████████████████████▏  | 788 kB 11.5 MB/s eta 0:00:01\r\u001b[K     |█████████████████████████████▌  | 798 kB 11.5 MB/s eta 0:00:01\r\u001b[K     |██████████████████████████████  | 808 kB 11.5 MB/s eta 0:00:01\r\u001b[K     |██████████████████████████████▎ | 819 kB 11.5 MB/s eta 0:00:01\r\u001b[K     |██████████████████████████████▋ | 829 kB 11.5 MB/s eta 0:00:01\r\u001b[K     |███████████████████████████████ | 839 kB 11.5 MB/s eta 0:00:01\r\u001b[K     |███████████████████████████████▍| 849 kB 11.5 MB/s eta 0:00:01\r\u001b[K     |███████████████████████████████▉| 860 kB 11.5 MB/s eta 0:00:01\r\u001b[K     |████████████████████████████████| 865 kB 11.5 MB/s \n",
            "\u001b[?25hInstalling collected packages: pyfiglet\n",
            "Successfully installed pyfiglet-0.8.post1\n",
            "Please select anyone of these: \n",
            " 1. alligator \n",
            " 2. doh \n",
            " 3. puffy \n",
            " 4. slant \n",
            " 5. star wars \n",
            " >>> 1\n",
            "Please type your message here: pratham\n",
            "      ::::::::: :::::::::     :::::::::::::::::    :::    :::      :::   ::: \n",
            "     :+:    :+::+:    :+:  :+: :+:  :+:    :+:    :+:  :+: :+:   :+:+: :+:+: \n",
            "    +:+    +:++:+    +:+ +:+   +:+ +:+    +:+    +:+ +:+   +:+ +:+ +:+:+ +:+ \n",
            "   +#++:++#+ +#++:++#: +#++:++#++:+#+    +#++:++#+++#++:++#++:+#+  +:+  +#+  \n",
            "  +#+       +#+    +#++#+     +#++#+    +#+    +#++#+     +#++#+       +#+   \n",
            " #+#       #+#    #+##+#     #+##+#    #+#    #+##+#     #+##+#       #+#    \n",
            "###       ###    ######     ######    ###    ######     ######       ###     \n",
            "\n"
          ]
        }
      ],
      "source": [
        "!pip install pyfiglet\n",
        "from pyfiglet import Figlet\n",
        "\n",
        "figlet = Figlet()\n",
        "\n",
        "\n",
        "chosenfont = int(input(\"Please select anyone of these: \\n 1. alligator \\n 2. doh \\n 3. puffy \\n 4. slant \\n 5. star wars \\n >>> \"))\n",
        "if chosenfont == 1:\n",
        "\n",
        "  f = Figlet(font=\"alligator\")  \n",
        "\n",
        "if chosenfont == 2:\n",
        "\n",
        "    f = Figlet(font=\"doh\")\n",
        "\n",
        "if chosenfont == 3:\n",
        "\n",
        "    f = Figlet(font=\"puffy\")\n",
        "\n",
        "if chosenfont == 4:\n",
        "\n",
        "     f = Figlet(font=\"slant\")\n",
        "\n",
        "if chosenfont == 5: \n",
        "\n",
        "     f = Figlet(font=\"fuzzy\")\n",
        "\n",
        "\n",
        "selectedText = input(\"Please type your message here: \")\n",
        "print(f.renderText(selectedText))"
      ]
    }
  ]
}